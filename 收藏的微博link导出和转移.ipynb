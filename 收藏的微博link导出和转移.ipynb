{
 "cells": [
  {
   "cell_type": "markdown",
   "metadata": {},
   "source": [
    "# 如何使用python和selenium将自己收藏微博的链接导出来，并转移到自己的新号当中\n",
    "## 来由\n",
    "号给炸了，收藏和微博全在里面，能看，但是没法操作。WTF   \n",
    "那么如何把收藏和微博导出来，搞到新的微博呢？\n",
    "\n",
    "## 环境python3\n",
    "* jupyter notebook \n",
    "* selenium 这是一个自动化工具。就是可以自动模拟用户对微博的翻页、点击、滚动网页等动作\n",
    "* lxml 这是网页的解析工具。我们获取到网页之后需要通过lxml去获取网页中的链接或者文本信息。 selenium库中也有自己的网页html解析防范，但是试用过还是lxml更强大一些\n",
    "\n",
    "安装两个库"
   ]
  },
  {
   "cell_type": "code",
   "execution_count": null,
   "metadata": {},
   "outputs": [],
   "source": [
    "!pip install notebook\n",
    "!pip install selenium\n",
    "!pip install lxml"
   ]
  },
  {
   "cell_type": "markdown",
   "metadata": {},
   "source": [
    "## 任务一: 把自己收藏的微博的链接link全找到"
   ]
  },
  {
   "cell_type": "markdown",
   "metadata": {},
   "source": [
    "### 使用selenium登陆微博\n",
    "\n",
    "1. 从网络上下载chromedriver.exe\n",
    "2. 修改下面chrome_driver_path变量的路径为本地chromedirver.exe的路径\n",
    "3. 运行下面代码会打开chrome和微博首页"
   ]
  },
  {
   "cell_type": "code",
   "execution_count": null,
   "metadata": {},
   "outputs": [],
   "source": [
    "from selenium import webdriver\n",
    "from selenium.webdriver.common.keys import Keys\n",
    "import time\n",
    "from lxml import etree\n",
    "#coding:utf-8\n",
    "from lxml import html \n",
    "from tqdm import tqdm\n",
    " \n",
    "chrome_driver_path = r'C:\\Users\\xxxxx\\chromedriver_win32 (1)\\chromedriver.exe'\n",
    "driver = webdriver.Chrome(executable_path=r\"C:\\Users\\ESS User\\Desktop\\BOOK\\chromedriver_win32 (1)\\chromedriver.exe\")\n",
    "driver.get(\"http://www.weibo.com\")"
   ]
  },
  {
   "cell_type": "markdown",
   "metadata": {},
   "source": [
    "### 在调出的chrome里面，登陆自己炸号的微博，完成登陆成功"
   ]
  },
  {
   "cell_type": "markdown",
   "metadata": {},
   "source": [
    "### 提取收藏微博的链接\n",
    "1. 基本环境的设置  \n",
    "查看自己的收藏的微博有多少页比如37页，那么设置变量 bookmark_last_page = 37     \n",
    "预先设定收藏微博的链接信息放在 bookmark_total.txt 中  \n",
    "提取出错的收藏夹网页信息放在 wrong_page.txt"
   ]
  },
  {
   "cell_type": "code",
   "execution_count": 6,
   "metadata": {},
   "outputs": [],
   "source": [
    "bookmark_last_page = 37 \n",
    "bookmark_total_path = 'bookmark_total.txt'\n",
    "log_path = 'wrong_page.txt'"
   ]
  },
  {
   "cell_type": "markdown",
   "metadata": {},
   "source": [
    "2. 开始运行链接提取程序"
   ]
  },
  {
   "cell_type": "code",
   "execution_count": null,
   "metadata": {},
   "outputs": [],
   "source": [
    "open(bookmark_total_path, 'w').close()\n",
    "open(log_path, 'w').close\n",
    "wait_loading_time = 2   # 加载微博网页可能需要一些时间，因此等待2s中加载网页\n",
    "\n",
    "for page in range(1, bookmark_last_page+1):\n",
    "    \n",
    "    driver.get(f\"https://www.weibo.com/fav?page={page}\") \n",
    "    time.sleep(wait_loading_time)  ##缓一定时间\n",
    "    \n",
    "    mark_html_path = f'mark_{page}.html'\n",
    "    with  open(mark_html_path,'wb') as f:\n",
    "        f.write(driver.page_source.encode('utf-8')) # 忽略非法字符   \n",
    "    tree = html.parse(mark_html_path)\n",
    "    \n",
    "    bookmark_links = []\n",
    "    page_mark_list = []\n",
    "    for e in  tree.xpath(\"//div[@class='WB_from S_txt2']/a\"):\n",
    "        suffix = e.attrib['href']\n",
    "        if 'collection' in suffix:\n",
    "            fulllink = 'https://www.weibo.com' + suffix\n",
    "            page_mark_list.append(fulllink)\n",
    " \n",
    "    if len(page_mark_list) > 1:\n",
    "        print('page', page,  page_mark_list[-1], 'finished')\n",
    "        with open(bookmark_total_path, 'a+') as f:\n",
    "            f.write(f'fav page_{page}------------------\\n')\n",
    "            for lk in page_mark_list:\n",
    "                f.write(lk +'\\n')\n",
    "            f.write('\\n\\n')\n",
    "    else:\n",
    "        with open(log_path, 'a+') as f:\n",
    "            print('page', page, 'failed')\n",
    "            f.write(f'probmatic page {page}' + '\\n' )\n",
    " "
   ]
  },
  {
   "cell_type": "markdown",
   "metadata": {},
   "source": [
    "### 导出结果如下图  \n",
    "bookmark_total.txt中每页收藏的对应微博链接如下展示\n",
    "![title](./images/fav_weibo.png)"
   ]
  },
  {
   "cell_type": "markdown",
   "metadata": {},
   "source": [
    "## 任务二: 访问收藏的微博链接，挨个点收藏"
   ]
  },
  {
   "cell_type": "markdown",
   "metadata": {},
   "source": [
    "### 整理bookmark_total.txt中的链接，格式每行一个链接\n",
    "![title](./images/fav_link_merge.png)"
   ]
  },
  {
   "cell_type": "markdown",
   "metadata": {},
   "source": [
    "###  使用下列代码启动chrome，然后登陆自己   新号  的微博"
   ]
  },
  {
   "cell_type": "code",
   "execution_count": 12,
   "metadata": {},
   "outputs": [],
   "source": [
    "from selenium import webdriver\n",
    "from selenium.webdriver.common.keys import Keys\n",
    "import time\n",
    "from lxml import etree\n",
    "#coding:utf-8\n",
    "from lxml import html \n",
    "from tqdm import tqdm\n",
    " \n",
    "driver = webdriver.Chrome(executable_path=r\"C:\\Users\\ESS User\\Desktop\\BOOK\\chromedriver_win32 (1)\\chromedriver.exe\")\n",
    "driver.get(\"http://www.weibo.com\")"
   ]
  },
  {
   "cell_type": "markdown",
   "metadata": {},
   "source": [
    "### 使用下列代码访问各个微博链接，挨个点收藏按钮"
   ]
  },
  {
   "cell_type": "markdown",
   "metadata": {},
   "source": [
    "下面代码会从bookmark_total.txt这个文件读取link并访问。  \n",
    "如果访问收藏出现了问题，那么就会放到problematic_bookmarklink.txt这个文件里\n",
    "\n",
    "如果跑了程序遇到一些收藏失败的问题（主要是有时候页面加载不出来才导致收藏失败的）。  \n",
    "可以把问题link放到bookmark_total.txt做更新，让下面程序再跑一遍"
   ]
  },
  {
   "cell_type": "code",
   "execution_count": null,
   "metadata": {},
   "outputs": [],
   "source": [
    "with open('bookmark_total.txt', 'r') as f:\n",
    "    bookmark_links = f.readlines()\n",
    "\n",
    "bookmark_links = bookmark_links[::-1]\n",
    "bookmark_links = [lk for lk in bookmark_links if len(lk) > 10]\n",
    "for idx, booklink in enumerate(tqdm(bookmark_links,total=len(bookmark_links))):\n",
    "    time.sleep(1)\n",
    "    driver.get(booklink)\n",
    "    time.sleep(1)\n",
    "    try:\n",
    "        save_button = driver.find_element_by_class_name('pos')\n",
    "        if save_button.text != 'û已收藏':\n",
    "            save_button.click()\n",
    "    except:\n",
    "        print('\\nwrong', idx, booklink)\n",
    "        with open('problematic_bookmarklink.txt', 'a+') as f:\n",
    "            f.write(booklink)"
   ]
  },
  {
   "cell_type": "markdown",
   "metadata": {},
   "source": [
    "# Rebutal 缺点\n",
    "\n",
    "* 没有cookie登陆。手动登陆。一个号还好。\n",
    "* 收藏微博页面的访问，浏览器是最大的不确定因素，从我的浏览器观察，比如有1到100页，那么可能跑了20页，网页就突然卡掉，影响后面几页才恢复正常。这种情况，要么把'wrong_page.txt里没访问到的页面重新访问一下，要么把页面等待加载的时间加长一些。 我觉得bug的页面重跑比较快。"
   ]
  }
 ],
 "metadata": {
  "kernelspec": {
   "display_name": "Python 3",
   "language": "python",
   "name": "python3"
  },
  "language_info": {
   "codemirror_mode": {
    "name": "ipython",
    "version": 3
   },
   "file_extension": ".py",
   "mimetype": "text/x-python",
   "name": "python",
   "nbconvert_exporter": "python",
   "pygments_lexer": "ipython3",
   "version": "3.7.3"
  },
  "toc": {
   "base_numbering": 1,
   "nav_menu": {},
   "number_sections": true,
   "sideBar": true,
   "skip_h1_title": false,
   "title_cell": "Table of Contents",
   "title_sidebar": "Contents",
   "toc_cell": false,
   "toc_position": {},
   "toc_section_display": true,
   "toc_window_display": false
  }
 },
 "nbformat": 4,
 "nbformat_minor": 2
}
