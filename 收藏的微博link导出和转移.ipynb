{
 "cells": [
  {
   "cell_type": "markdown",
   "metadata": {},
   "source": [
    "# 如何使用python和selenium将自己收藏微博的链接导出来，并转移到自己的新号当中\n",
    "## 来由\n",
    "号给炸了，收藏和微博全在里面，能看，但是没法操作。WTF   \n",
    "那么如何把收藏和微博导出来，搞到新的微博呢？\n",
    "\n",
    "## 环境python3\n",
    "* jupyter notebook \n",
    "* selenium 这是一个自动化工具。就是可以自动模拟用户对微博的翻页、点击、滚动网页等动作\n",
    "* lxml 这是网页的解析工具。我们获取到网页之后需要通过lxml去获取网页中的链接或者文本信息。 selenium库中也有自己的网页html解析防范，但是试用过还是lxml更强大一些\n",
    "\n",
    "安装两个库"
   ]
  },
  {
   "cell_type": "code",
   "execution_count": 5,
   "metadata": {},
   "outputs": [
    {
     "name": "stdout",
     "output_type": "stream",
     "text": [
      "Requirement already satisfied: notebook in c:\\users\\ess user\\anaconda3\\lib\\site-packages (5.7.8)\n",
      "Requirement already satisfied: Send2Trash in c:\\users\\ess user\\anaconda3\\lib\\site-packages (from notebook) (1.5.0)\n",
      "Requirement already satisfied: jupyter-client>=5.2.0 in c:\\users\\ess user\\anaconda3\\lib\\site-packages (from notebook) (5.2.4)\n",
      "Requirement already satisfied: jupyter-core>=4.4.0 in c:\\users\\ess user\\anaconda3\\lib\\site-packages (from notebook) (4.4.0)\n",
      "Requirement already satisfied: traitlets>=4.2.1 in c:\\users\\ess user\\anaconda3\\lib\\site-packages (from notebook) (4.3.2)\n",
      "Requirement already satisfied: pyzmq>=17 in c:\\users\\ess user\\anaconda3\\lib\\site-packages (from notebook) (18.0.0)\n",
      "Requirement already satisfied: terminado>=0.8.1 in c:\\users\\ess user\\anaconda3\\lib\\site-packages (from notebook) (0.8.1)\n",
      "Requirement already satisfied: jinja2 in c:\\users\\ess user\\anaconda3\\lib\\site-packages (from notebook) (2.10)\n",
      "Requirement already satisfied: ipython-genutils in c:\\users\\ess user\\anaconda3\\lib\\site-packages (from notebook) (0.2.0)\n",
      "Requirement already satisfied: ipykernel in c:\\users\\ess user\\anaconda3\\lib\\site-packages (from notebook) (5.1.0)\n",
      "Requirement already satisfied: prometheus-client in c:\\users\\ess user\\anaconda3\\lib\\site-packages (from notebook) (0.6.0)\n",
      "Requirement already satisfied: tornado<7,>=4.1 in c:\\users\\ess user\\anaconda3\\lib\\site-packages (from notebook) (6.0.2)\n",
      "Requirement already satisfied: nbformat in c:\\users\\ess user\\anaconda3\\lib\\site-packages (from notebook) (4.4.0)\n",
      "Requirement already satisfied: nbconvert in c:\\users\\ess user\\anaconda3\\lib\\site-packages (from notebook) (5.4.1)\n",
      "Requirement already satisfied: python-dateutil>=2.1 in c:\\users\\ess user\\anaconda3\\lib\\site-packages (from jupyter-client>=5.2.0->notebook) (2.8.0)\n",
      "Requirement already satisfied: decorator in c:\\users\\ess user\\anaconda3\\lib\\site-packages (from traitlets>=4.2.1->notebook) (4.4.0)\n",
      "Requirement already satisfied: six in c:\\users\\ess user\\anaconda3\\lib\\site-packages (from traitlets>=4.2.1->notebook) (1.12.0)\n",
      "Requirement already satisfied: MarkupSafe>=0.23 in c:\\users\\ess user\\anaconda3\\lib\\site-packages (from jinja2->notebook) (1.1.1)\n",
      "Requirement already satisfied: ipython>=5.0.0 in c:\\users\\ess user\\anaconda3\\lib\\site-packages (from ipykernel->notebook) (7.4.0)\n",
      "Requirement already satisfied: jsonschema!=2.5.0,>=2.4 in c:\\users\\ess user\\anaconda3\\lib\\site-packages (from nbformat->notebook) (3.0.1)\n",
      "Requirement already satisfied: mistune>=0.8.1 in c:\\users\\ess user\\anaconda3\\lib\\site-packages (from nbconvert->notebook) (0.8.4)\n",
      "Requirement already satisfied: pygments in c:\\users\\ess user\\anaconda3\\lib\\site-packages (from nbconvert->notebook) (2.3.1)\n",
      "Requirement already satisfied: entrypoints>=0.2.2 in c:\\users\\ess user\\anaconda3\\lib\\site-packages (from nbconvert->notebook) (0.3)\n",
      "Requirement already satisfied: bleach in c:\\users\\ess user\\anaconda3\\lib\\site-packages (from nbconvert->notebook) (3.1.0)\n",
      "Requirement already satisfied: pandocfilters>=1.4.1 in c:\\users\\ess user\\anaconda3\\lib\\site-packages (from nbconvert->notebook) (1.4.2)\n",
      "Requirement already satisfied: testpath in c:\\users\\ess user\\anaconda3\\lib\\site-packages (from nbconvert->notebook) (0.4.2)\n",
      "Requirement already satisfied: defusedxml in c:\\users\\ess user\\anaconda3\\lib\\site-packages (from nbconvert->notebook) (0.5.0)\n",
      "Requirement already satisfied: backcall in c:\\users\\ess user\\anaconda3\\lib\\site-packages (from ipython>=5.0.0->ipykernel->notebook) (0.1.0)\n",
      "Requirement already satisfied: pickleshare in c:\\users\\ess user\\anaconda3\\lib\\site-packages (from ipython>=5.0.0->ipykernel->notebook) (0.7.5)\n",
      "Requirement already satisfied: setuptools>=18.5 in c:\\users\\ess user\\anaconda3\\lib\\site-packages (from ipython>=5.0.0->ipykernel->notebook) (40.8.0)\n",
      "Requirement already satisfied: jedi>=0.10 in c:\\users\\ess user\\anaconda3\\lib\\site-packages (from ipython>=5.0.0->ipykernel->notebook) (0.13.3)\n",
      "Requirement already satisfied: prompt-toolkit<2.1.0,>=2.0.0 in c:\\users\\ess user\\anaconda3\\lib\\site-packages (from ipython>=5.0.0->ipykernel->notebook) (2.0.9)\n",
      "Requirement already satisfied: colorama; sys_platform == \"win32\" in c:\\users\\ess user\\anaconda3\\lib\\site-packages (from ipython>=5.0.0->ipykernel->notebook) (0.4.1)\n",
      "Requirement already satisfied: attrs>=17.4.0 in c:\\users\\ess user\\anaconda3\\lib\\site-packages (from jsonschema!=2.5.0,>=2.4->nbformat->notebook) (19.1.0)\n",
      "Requirement already satisfied: pyrsistent>=0.14.0 in c:\\users\\ess user\\anaconda3\\lib\\site-packages (from jsonschema!=2.5.0,>=2.4->nbformat->notebook) (0.14.11)\n",
      "Requirement already satisfied: webencodings in c:\\users\\ess user\\anaconda3\\lib\\site-packages (from bleach->nbconvert->notebook) (0.5.1)\n",
      "Requirement already satisfied: parso>=0.3.0 in c:\\users\\ess user\\anaconda3\\lib\\site-packages (from jedi>=0.10->ipython>=5.0.0->ipykernel->notebook) (0.3.4)\n",
      "Requirement already satisfied: wcwidth in c:\\users\\ess user\\anaconda3\\lib\\site-packages (from prompt-toolkit<2.1.0,>=2.0.0->ipython>=5.0.0->ipykernel->notebook) (0.1.7)\n",
      "Requirement already satisfied: selenium in c:\\users\\ess user\\anaconda3\\lib\\site-packages (3.141.0)\n",
      "Requirement already satisfied: urllib3 in c:\\users\\ess user\\anaconda3\\lib\\site-packages (from selenium) (1.24.1)\n",
      "Requirement already satisfied: lxml in c:\\users\\ess user\\anaconda3\\lib\\site-packages (4.3.2)\n"
     ]
    }
   ],
   "source": [
    "!pip install notebook\n",
    "!pip install selenium\n",
    "!pip install lxml"
   ]
  },
  {
   "cell_type": "markdown",
   "metadata": {},
   "source": [
    "## 任务一: 把自己收藏的微博的链接link全找到"
   ]
  },
  {
   "cell_type": "markdown",
   "metadata": {},
   "source": [
    "### 使用selenium登陆微博\n",
    "\n",
    "1. 从网络上下载chromedriver.exe\n",
    "2. 修改下面chrome_driver_path变量的路径为本地chromedirver.exe的路径\n",
    "3. 运行下面代码会打开chrome和微博首页"
   ]
  },
  {
   "cell_type": "code",
   "execution_count": 4,
   "metadata": {},
   "outputs": [
    {
     "ename": "WebDriverException",
     "evalue": "Message: unknown error: cannot determine loading status\nfrom disconnected: received Inspector.detached event\n  (Session info: chrome=80.0.3987.106)\n",
     "output_type": "error",
     "traceback": [
      "\u001b[1;31m---------------------------------------------------------------------------\u001b[0m",
      "\u001b[1;31mWebDriverException\u001b[0m                        Traceback (most recent call last)",
      "\u001b[1;32m<ipython-input-4-71ed76d32a1a>\u001b[0m in \u001b[0;36m<module>\u001b[1;34m\u001b[0m\n\u001b[0;32m      9\u001b[0m \u001b[0mchrome_driver_path\u001b[0m \u001b[1;33m=\u001b[0m \u001b[1;34mr'C:\\Users\\xxxxx\\chromedriver_win32 (1)\\chromedriver.exe'\u001b[0m\u001b[1;33m\u001b[0m\u001b[1;33m\u001b[0m\u001b[0m\n\u001b[0;32m     10\u001b[0m \u001b[0mdriver\u001b[0m \u001b[1;33m=\u001b[0m \u001b[0mwebdriver\u001b[0m\u001b[1;33m.\u001b[0m\u001b[0mChrome\u001b[0m\u001b[1;33m(\u001b[0m\u001b[0mexecutable_path\u001b[0m\u001b[1;33m=\u001b[0m\u001b[1;34mr\"C:\\Users\\ESS User\\Desktop\\BOOK\\chromedriver_win32 (1)\\chromedriver.exe\"\u001b[0m\u001b[1;33m)\u001b[0m\u001b[1;33m\u001b[0m\u001b[1;33m\u001b[0m\u001b[0m\n\u001b[1;32m---> 11\u001b[1;33m \u001b[0mdriver\u001b[0m\u001b[1;33m.\u001b[0m\u001b[0mget\u001b[0m\u001b[1;33m(\u001b[0m\u001b[1;34m\"http://www.weibo.com\"\u001b[0m\u001b[1;33m)\u001b[0m\u001b[1;33m\u001b[0m\u001b[1;33m\u001b[0m\u001b[0m\n\u001b[0m",
      "\u001b[1;32m~\\Anaconda3\\lib\\site-packages\\selenium\\webdriver\\remote\\webdriver.py\u001b[0m in \u001b[0;36mget\u001b[1;34m(self, url)\u001b[0m\n\u001b[0;32m    331\u001b[0m         \u001b[0mLoads\u001b[0m \u001b[0ma\u001b[0m \u001b[0mweb\u001b[0m \u001b[0mpage\u001b[0m \u001b[1;32min\u001b[0m \u001b[0mthe\u001b[0m \u001b[0mcurrent\u001b[0m \u001b[0mbrowser\u001b[0m \u001b[0msession\u001b[0m\u001b[1;33m.\u001b[0m\u001b[1;33m\u001b[0m\u001b[1;33m\u001b[0m\u001b[0m\n\u001b[0;32m    332\u001b[0m         \"\"\"\n\u001b[1;32m--> 333\u001b[1;33m         \u001b[0mself\u001b[0m\u001b[1;33m.\u001b[0m\u001b[0mexecute\u001b[0m\u001b[1;33m(\u001b[0m\u001b[0mCommand\u001b[0m\u001b[1;33m.\u001b[0m\u001b[0mGET\u001b[0m\u001b[1;33m,\u001b[0m \u001b[1;33m{\u001b[0m\u001b[1;34m'url'\u001b[0m\u001b[1;33m:\u001b[0m \u001b[0murl\u001b[0m\u001b[1;33m}\u001b[0m\u001b[1;33m)\u001b[0m\u001b[1;33m\u001b[0m\u001b[1;33m\u001b[0m\u001b[0m\n\u001b[0m\u001b[0;32m    334\u001b[0m \u001b[1;33m\u001b[0m\u001b[0m\n\u001b[0;32m    335\u001b[0m     \u001b[1;33m@\u001b[0m\u001b[0mproperty\u001b[0m\u001b[1;33m\u001b[0m\u001b[1;33m\u001b[0m\u001b[0m\n",
      "\u001b[1;32m~\\Anaconda3\\lib\\site-packages\\selenium\\webdriver\\remote\\webdriver.py\u001b[0m in \u001b[0;36mexecute\u001b[1;34m(self, driver_command, params)\u001b[0m\n\u001b[0;32m    319\u001b[0m         \u001b[0mresponse\u001b[0m \u001b[1;33m=\u001b[0m \u001b[0mself\u001b[0m\u001b[1;33m.\u001b[0m\u001b[0mcommand_executor\u001b[0m\u001b[1;33m.\u001b[0m\u001b[0mexecute\u001b[0m\u001b[1;33m(\u001b[0m\u001b[0mdriver_command\u001b[0m\u001b[1;33m,\u001b[0m \u001b[0mparams\u001b[0m\u001b[1;33m)\u001b[0m\u001b[1;33m\u001b[0m\u001b[1;33m\u001b[0m\u001b[0m\n\u001b[0;32m    320\u001b[0m         \u001b[1;32mif\u001b[0m \u001b[0mresponse\u001b[0m\u001b[1;33m:\u001b[0m\u001b[1;33m\u001b[0m\u001b[1;33m\u001b[0m\u001b[0m\n\u001b[1;32m--> 321\u001b[1;33m             \u001b[0mself\u001b[0m\u001b[1;33m.\u001b[0m\u001b[0merror_handler\u001b[0m\u001b[1;33m.\u001b[0m\u001b[0mcheck_response\u001b[0m\u001b[1;33m(\u001b[0m\u001b[0mresponse\u001b[0m\u001b[1;33m)\u001b[0m\u001b[1;33m\u001b[0m\u001b[1;33m\u001b[0m\u001b[0m\n\u001b[0m\u001b[0;32m    322\u001b[0m             response['value'] = self._unwrap_value(\n\u001b[0;32m    323\u001b[0m                 response.get('value', None))\n",
      "\u001b[1;32m~\\Anaconda3\\lib\\site-packages\\selenium\\webdriver\\remote\\errorhandler.py\u001b[0m in \u001b[0;36mcheck_response\u001b[1;34m(self, response)\u001b[0m\n\u001b[0;32m    240\u001b[0m                 \u001b[0malert_text\u001b[0m \u001b[1;33m=\u001b[0m \u001b[0mvalue\u001b[0m\u001b[1;33m[\u001b[0m\u001b[1;34m'alert'\u001b[0m\u001b[1;33m]\u001b[0m\u001b[1;33m.\u001b[0m\u001b[0mget\u001b[0m\u001b[1;33m(\u001b[0m\u001b[1;34m'text'\u001b[0m\u001b[1;33m)\u001b[0m\u001b[1;33m\u001b[0m\u001b[1;33m\u001b[0m\u001b[0m\n\u001b[0;32m    241\u001b[0m             \u001b[1;32mraise\u001b[0m \u001b[0mexception_class\u001b[0m\u001b[1;33m(\u001b[0m\u001b[0mmessage\u001b[0m\u001b[1;33m,\u001b[0m \u001b[0mscreen\u001b[0m\u001b[1;33m,\u001b[0m \u001b[0mstacktrace\u001b[0m\u001b[1;33m,\u001b[0m \u001b[0malert_text\u001b[0m\u001b[1;33m)\u001b[0m\u001b[1;33m\u001b[0m\u001b[1;33m\u001b[0m\u001b[0m\n\u001b[1;32m--> 242\u001b[1;33m         \u001b[1;32mraise\u001b[0m \u001b[0mexception_class\u001b[0m\u001b[1;33m(\u001b[0m\u001b[0mmessage\u001b[0m\u001b[1;33m,\u001b[0m \u001b[0mscreen\u001b[0m\u001b[1;33m,\u001b[0m \u001b[0mstacktrace\u001b[0m\u001b[1;33m)\u001b[0m\u001b[1;33m\u001b[0m\u001b[1;33m\u001b[0m\u001b[0m\n\u001b[0m\u001b[0;32m    243\u001b[0m \u001b[1;33m\u001b[0m\u001b[0m\n\u001b[0;32m    244\u001b[0m     \u001b[1;32mdef\u001b[0m \u001b[0m_value_or_default\u001b[0m\u001b[1;33m(\u001b[0m\u001b[0mself\u001b[0m\u001b[1;33m,\u001b[0m \u001b[0mobj\u001b[0m\u001b[1;33m,\u001b[0m \u001b[0mkey\u001b[0m\u001b[1;33m,\u001b[0m \u001b[0mdefault\u001b[0m\u001b[1;33m)\u001b[0m\u001b[1;33m:\u001b[0m\u001b[1;33m\u001b[0m\u001b[1;33m\u001b[0m\u001b[0m\n",
      "\u001b[1;31mWebDriverException\u001b[0m: Message: unknown error: cannot determine loading status\nfrom disconnected: received Inspector.detached event\n  (Session info: chrome=80.0.3987.106)\n"
     ]
    }
   ],
   "source": [
    "from selenium import webdriver\n",
    "from selenium.webdriver.common.keys import Keys\n",
    "import time\n",
    "from lxml import etree\n",
    "#coding:utf-8\n",
    "from lxml import html \n",
    "from tqdm import tqdm\n",
    " \n",
    "chrome_driver_path = r'C:\\Users\\xxxxx\\chromedriver_win32 (1)\\chromedriver.exe'\n",
    "driver = webdriver.Chrome(executable_path=r\"C:\\Users\\ESS User\\Desktop\\BOOK\\chromedriver_win32 (1)\\chromedriver.exe\")\n",
    "driver.get(\"http://www.weibo.com\")"
   ]
  },
  {
   "cell_type": "markdown",
   "metadata": {},
   "source": [
    "### 在调出的chrome里面，登陆自己炸号的微博，完成登陆成功"
   ]
  },
  {
   "cell_type": "markdown",
   "metadata": {},
   "source": [
    "### 提取收藏微博的链接\n",
    "1. 基本环境的设置  \n",
    "查看自己的收藏的微博有多少页比如37页，那么设置变量 bookmark_last_page = 37     \n",
    "预先设定收藏微博的链接信息放在 bookmark_total.txt 中  \n",
    "提取出错的收藏夹网页信息放在 wrong_page.txt"
   ]
  },
  {
   "cell_type": "code",
   "execution_count": 6,
   "metadata": {},
   "outputs": [],
   "source": [
    "bookmark_last_page = 38 \n",
    "bookmark_total_path = 'bookmark_total.txt'\n",
    "log_path = 'wrong_page.txt'"
   ]
  },
  {
   "cell_type": "markdown",
   "metadata": {},
   "source": [
    "2. 开始运行链接提取程序"
   ]
  },
  {
   "cell_type": "code",
   "execution_count": null,
   "metadata": {},
   "outputs": [],
   "source": [
    "open(bookmark_total_path, 'w').close()\n",
    "open(log_path, 'w').close\n",
    "wait_loading_time = 2   # 加载微博网页可能需要一些时间，因此等待2s中加载网页\n",
    "\n",
    "for page in range(1, bookmark_last_page+1):\n",
    "    \n",
    "    driver.get(f\"https://www.weibo.com/fav?page={page}\") \n",
    "    time.sleep(wait_loading_time)  ##缓一定时间\n",
    "    \n",
    "    mark_html_path = f'mark_{page}.html'\n",
    "    with  open(mark_html_path,'wb') as f:\n",
    "        f.write(driver.page_source.encode('utf-8')) # 忽略非法字符   \n",
    "    tree = html.parse(mark_html_path)\n",
    "    \n",
    "    bookmark_links = []\n",
    "    page_mark_list = []\n",
    "    for e in  tree.xpath(\"//div[@class='WB_from S_txt2']/a\"):\n",
    "        suffix = e.attrib['href']\n",
    "        if 'collection' in suffix:\n",
    "            fulllink = 'https://www.weibo.com' + suffix\n",
    "            page_mark_list.append(fulllink)\n",
    " \n",
    "    if len(page_mark_list) > 1:\n",
    "        print('page', page,  page_mark_list[-1], 'finished')\n",
    "        with open(bookmark_total_path, 'a+') as f:\n",
    "            f.write(f'fav page_{page}------------------\\n')\n",
    "            for lk in page_mark_list:\n",
    "                f.write(lk +'\\n')\n",
    "            f.write('\\n\\n')\n",
    "    else:\n",
    "        with open(log_path, 'a+') as f:\n",
    "            print('page', page, 'failed')\n",
    "            f.write(f'probmatic page {page}' + '\\n' )\n",
    " "
   ]
  },
  {
   "attachments": {},
   "cell_type": "markdown",
   "metadata": {},
   "source": [
    "### 导出结果如下图  \n",
    "bookmark_total.txt中每页收藏的对应微博链接如下展示\n",
    "![title](fav_weibo.png)"
   ]
  },
  {
   "cell_type": "markdown",
   "metadata": {},
   "source": [
    "## 任务二: 访问收藏的微博链接，挨个点收藏"
   ]
  },
  {
   "attachments": {},
   "cell_type": "markdown",
   "metadata": {},
   "source": [
    "### 整理bookmark_total.txt中的链接，格式每行一个链接\n",
    "![title](fav_link_merge.png)"
   ]
  },
  {
   "cell_type": "markdown",
   "metadata": {},
   "source": [
    "###  使用下列代码启动chrome，然后登陆自己   新号  的微博"
   ]
  },
  {
   "cell_type": "code",
   "execution_count": 12,
   "metadata": {},
   "outputs": [],
   "source": [
    "from selenium import webdriver\n",
    "from selenium.webdriver.common.keys import Keys\n",
    "import time\n",
    "from lxml import etree\n",
    "#coding:utf-8\n",
    "from lxml import html \n",
    "from tqdm import tqdm\n",
    " \n",
    "driver = webdriver.Chrome(executable_path=r\"C:\\Users\\ESS User\\Desktop\\BOOK\\chromedriver_win32 (1)\\chromedriver.exe\")\n",
    "driver.get(\"http://www.weibo.com\")"
   ]
  },
  {
   "cell_type": "markdown",
   "metadata": {},
   "source": [
    "### 使用下列代码访问各个微博链接，挨个点收藏按钮\n",
    "\n",
    "tips(看不懂可以无视，直接跑代码）  \n",
    "我们下载微博是从第一页开始到第n页下载的。比如2020年的我们会先获得他的链接。  \n",
    "但是收藏的时候，如果先收藏2020年，再收藏2015年的。那么最终在我们收藏夹里2020年会放到后面去了。  \n",
    "因此需要对链接访问顺序做个反序。  \n"
   ]
  },
  {
   "cell_type": "markdown",
   "metadata": {},
   "source": [
    "下面代码会从bookmark_total.txt这个文件读取link并访问。  \n",
    "如果访问收藏出现了问题，那么就会放到problematic_bookmarklink.txt这个文件里\n",
    "\n",
    "如果跑了程序遇到一些收藏失败的问题（主要是有时候页面加载不出来才导致收藏失败的）。  \n",
    "可以把问题link放到bookmark_total.txt做更新，让下面程序再跑一遍"
   ]
  },
  {
   "cell_type": "code",
   "execution_count": null,
   "metadata": {},
   "outputs": [],
   "source": [
    "with open('bookmark_total.txt', 'r') as f:\n",
    "    bookmark_links = f.readlines()\n",
    "\n",
    "bookmark_links = bookmark_links[::-1]\n",
    "bookmark_links = [lk for lk in bookmark_links if len(lk) > 10]\n",
    "for idx, booklink in enumerate(tqdm(bookmark_links,total=len(bookmark_links))):\n",
    "    time.sleep(1)\n",
    "    driver.get(booklink)\n",
    "    time.sleep(1)\n",
    "    try:\n",
    "        save_button = driver.find_element_by_class_name('pos')\n",
    "        if save_button.text != 'û已收藏':\n",
    "            save_button.click()\n",
    "    except:\n",
    "        print('\\nwrong', idx, booklink)\n",
    "        with open('problematic_bookmarklink.txt', 'a+') as f:\n",
    "            f.write(booklink)"
   ]
  },
  {
   "cell_type": "markdown",
   "metadata": {},
   "source": [
    "# Rebutal 缺点\n",
    "\n",
    "* 没有cookie登陆。手动登陆。一个号还好。\n",
    "* 收藏微博页面的访问，浏览器是最大的不确定因素，从我的浏览器观察，比如有1到100页，那么可能跑了20页，网页就突然卡掉，影响后面几页才恢复正常。这种情况，要么把'wrong_page.txt里没访问到的页面重新访问一下，要么把页面等待加载的时间加长一些。 我觉得bug的页面重跑比较快。"
   ]
  },
  {
   "cell_type": "code",
   "execution_count": null,
   "metadata": {},
   "outputs": [],
   "source": []
  }
 ],
 "metadata": {
  "kernelspec": {
   "display_name": "Python 3",
   "language": "python",
   "name": "python3"
  },
  "language_info": {
   "codemirror_mode": {
    "name": "ipython",
    "version": 3
   },
   "file_extension": ".py",
   "mimetype": "text/x-python",
   "name": "python",
   "nbconvert_exporter": "python",
   "pygments_lexer": "ipython3",
   "version": "3.7.3"
  },
  "toc": {
   "base_numbering": 1,
   "nav_menu": {},
   "number_sections": true,
   "sideBar": true,
   "skip_h1_title": false,
   "title_cell": "Table of Contents",
   "title_sidebar": "Contents",
   "toc_cell": false,
   "toc_position": {},
   "toc_section_display": true,
   "toc_window_display": false
  }
 },
 "nbformat": 4,
 "nbformat_minor": 2
}
