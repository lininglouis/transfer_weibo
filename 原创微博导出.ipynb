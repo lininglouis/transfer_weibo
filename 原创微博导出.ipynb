{
 "cells": [
  {
   "cell_type": "markdown",
   "metadata": {},
   "source": [
    "# 如何导出自己的原创微博"
   ]
  },
  {
   "cell_type": "markdown",
   "metadata": {},
   "source": [
    "## 来由\n",
    "号给炸了，收藏和微博全在里面，能看，但是没法操作。WTF   \n",
    "\n",
    "## 环境python3\n",
    "* jupyter notebook \n",
    "* selenium 这是一个自动化工具。就是可以自动模拟用户对微博的翻页、点击、滚动网页等动作\n",
    "* lxml 这是网页的解析工具。我们获取到网页之后需要通过lxml去获取网页中的链接或者文本信息。 selenium库中也有自己的网页html解析防范，但是试用过还是lxml更强大一些\n",
    "\n",
    "安装两个库"
   ]
  },
  {
   "cell_type": "code",
   "execution_count": 4,
   "metadata": {},
   "outputs": [
    {
     "name": "stdout",
     "output_type": "stream",
     "text": [
      "Requirement already satisfied: selenium in c:\\users\\ess user\\anaconda3\\lib\\site-packages (3.141.0)\n",
      "Requirement already satisfied: urllib3 in c:\\users\\ess user\\anaconda3\\lib\\site-packages (from selenium) (1.24.1)\n",
      "Requirement already satisfied: lxml in c:\\users\\ess user\\anaconda3\\lib\\site-packages (4.3.2)\n"
     ]
    }
   ],
   "source": [
    "!pip install notebook\n",
    "!pip install selenium\n",
    "!pip install lxml"
   ]
  },
  {
   "cell_type": "markdown",
   "metadata": {},
   "source": [
    "##  使用selenium登陆炸号微博\n",
    "\n",
    "1. 从网络上下载chromedriver.exe\n",
    "2. 修改下面chrome_driver_path变量的路径为本地chromedirver.exe的路径\n",
    "3. 运行下面代码会打开chrome和微博首页\n",
    "4. 输入自己的微博完成人工登陆"
   ]
  },
  {
   "cell_type": "code",
   "execution_count": 8,
   "metadata": {},
   "outputs": [],
   "source": [
    "from selenium import webdriver\n",
    "from selenium.webdriver.common.keys import Keys\n",
    "import time\n",
    "from lxml import etree\n",
    "#coding:utf-8\n",
    "from lxml import html \n",
    "from tqdm import tqdm\n",
    " \n",
    "chrome_driver_path = r'C:\\Users\\xxxxx\\chromedriver_win32 (1)\\chromedriver.exe'\n",
    "driver = webdriver.Chrome(executable_path=r\"C:\\Users\\ESS User\\Desktop\\BOOK\\chromedriver_win32 (1)\\chromedriver.exe\")\n",
    "driver.get(\"http://www.weibo.com\")"
   ]
  },
  {
   "cell_type": "markdown",
   "metadata": {},
   "source": [
    "## 设置一些变量。\n",
    "1. 默认保存的原创微博放在mytweets下面\n",
    "2. 查看自己的微博有多少页，比如打开自己的微博，滚到底，滚到不加载新页面的时候，就出现下一页和页数信息了。\n",
    "3. 确认自己开始导出收藏的页数，比如第3页到第30页。那page_start = 3, page_end = 30就好"
   ]
  },
  {
   "cell_type": "code",
   "execution_count": 6,
   "metadata": {},
   "outputs": [],
   "source": [
    "save_my_tweets = './mytweets.txt'\n",
    "page_start = 1\n",
    "page_end = 120"
   ]
  },
  {
   "cell_type": "markdown",
   "metadata": {},
   "source": [
    "## 运行下面代码，开始微博下载"
   ]
  },
  {
   "cell_type": "code",
   "execution_count": null,
   "metadata": {},
   "outputs": [],
   "source": [
    "def scroll_down_end(driver):\n",
    "    '''\n",
    "    参考stackoverflow 如何滚动到页面底部\n",
    "    '''\n",
    "    start = time.time()\n",
    "    while True and (time.time()-start) <10:\n",
    "    \n",
    "        SCROLL_PAUSE_TIME = 0.5\n",
    "        \n",
    "        # Get scroll height\n",
    "        last_height = driver.execute_script(\"return document.body.scrollHeight\")\n",
    "        \n",
    "        while True:\n",
    "            # Scroll down to bottom\n",
    "            driver.execute_script(\"window.scrollTo(0, document.body.scrollHeight);\")\n",
    "        \n",
    "            # Wait to load page\n",
    "            time.sleep(SCROLL_PAUSE_TIME)\n",
    "        \n",
    "            # Calculate new scroll height and compare with last scroll height\n",
    "            new_height = driver.execute_script(\"return document.body.scrollHeight\")\n",
    "            if new_height == last_height:\n",
    "                break\n",
    "            last_height = new_height\n",
    "   \n",
    "def get_better_html_tree(driver):  \n",
    "    mark_html_path = 'heyhey'\n",
    "    with  open(mark_html_path,'wb') as f:\n",
    "        f.write(driver.page_source.encode('utf-8')) \n",
    "    tree = html.parse(mark_html_path)\n",
    "    return tree     \n",
    "\n",
    "\n",
    "\n",
    "for pg_num in range(page_start, page_end+1):\n",
    "\n",
    "    urllink = f'https://www.weibo.com/1826134871/profile?is_search=0&visible=0&is_all=1&is_tag=0&profile_ftype=1&page={pg_num}#feedtop'\n",
    "    driver.get(urllink)\n",
    "    scroll_down_end(driver)\n",
    "    \n",
    "    tree = get_better_html_tree(driver)\n",
    "    mytweets = tree.xpath(\"//div[@tbinfo and not(@minfo)]\")\n",
    "     \n",
    "    for t in mytweets:\n",
    "        tweet_content = t.xpath(\".//div[@class='WB_text W_f14']\")[0].text_content().strip()\n",
    "        # 处理一些文本编码问题\n",
    "        tweet_content = tweet_content.replace(u'\\u200b', u' ').replace('\\xa0','').replace('\\U0001f449','').replace('\\xa1', '').replace('\\ue627','')\n",
    "        timediv = t.xpath(\".//div[@class='WB_from S_txt2']\")[0]\n",
    "        time_tok = timediv.text_content().strip()[:16]\n",
    "        with open(save_my_tweets, 'a') as f:\n",
    "            f.write(time_tok + '\\n')\n",
    "            f.write(tweet_content + '\\n')\n",
    "            print(time_tok)\n",
    "            print(tweet_content)"
   ]
  },
  {
   "cell_type": "markdown",
   "metadata": {},
   "source": [
    "## 导出结果的txt\n",
    "\n",
    "按照时间和微博内容进行保存\n",
    "```\n",
    "2019-7-7 00:24 \n",
    "天地有正气，杂然赋流形。\n",
    "2019-7-10 00:24 \n",
    "下则为河岳，上则为日星\n",
    "```\n"
   ]
  },
  {
   "attachments": {},
   "cell_type": "markdown",
   "metadata": {},
   "source": [
    "## 思路\n",
    "主要难点在于如何分析是不是自己的微博。通过inspect发现，div中有tbinfo属性，无minfo的才是原创微博。如果有minfo属性，则是转发微博\n",
    "比如下面，上面的div是原创微博，下面的是转发微博，可以在自己的微博里验证\n",
    "![title](weibo_html.png)\n"
   ]
  },
  {
   "cell_type": "markdown",
   "metadata": {},
   "source": [
    "## Rebuttal 思考\n",
    "1. 有些原创微博很长，需要点击“完全展开”才可以全部来看，不然只能看到部分内容。 可以写一个这种链接点击操作。目前没有实现。\n",
    "2. 对于每一页的微博打开，是打开这个页面，然后不停滚到十秒钟，假定滚动到底了。然后再提取网页。通过观察大部分情况10秒钟就滚到底了"
   ]
  },
  {
   "cell_type": "code",
   "execution_count": null,
   "metadata": {},
   "outputs": [],
   "source": []
  }
 ],
 "metadata": {
  "kernelspec": {
   "display_name": "Python 3",
   "language": "python",
   "name": "python3"
  },
  "language_info": {
   "codemirror_mode": {
    "name": "ipython",
    "version": 3
   },
   "file_extension": ".py",
   "mimetype": "text/x-python",
   "name": "python",
   "nbconvert_exporter": "python",
   "pygments_lexer": "ipython3",
   "version": "3.7.3"
  },
  "toc": {
   "base_numbering": 1,
   "nav_menu": {},
   "number_sections": true,
   "sideBar": true,
   "skip_h1_title": false,
   "title_cell": "Table of Contents",
   "title_sidebar": "Contents",
   "toc_cell": false,
   "toc_position": {},
   "toc_section_display": true,
   "toc_window_display": false
  }
 },
 "nbformat": 4,
 "nbformat_minor": 2
}
